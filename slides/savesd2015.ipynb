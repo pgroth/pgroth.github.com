{
 "cells": [
  {
   "cell_type": "markdown",
   "metadata": {
    "slideshow": {
     "slide_type": "slide"
    }
   },
   "source": [
    "# Increasing the Productivity of Scholarship\n",
    "## The Case for Knowledge Graphs\n",
    "\n",
    "Paul Groth - Elsevier Labs\n",
    "\n",
    "[@pgroth](http://twitter.com/pgroth) | [pgroth.com](http://pgroth.com) |  [labs.elsevier.com](http://labs.elsevier.com)\n",
    "\n",
    "![images](./images/by.svg)"
   ]
  },
  {
   "cell_type": "markdown",
   "metadata": {
    "slideshow": {
     "slide_type": "slide"
    }
   },
   "source": [
    "Outline\n",
    "* Productivity in scholarship\n",
    "* A model\n",
    "* Current solutions\n",
    "* Knowledge Graphs & Why\n",
    "* Challenges"
   ]
  },
  {
   "cell_type": "markdown",
   "metadata": {
    "slideshow": {
     "slide_type": "slide"
    }
   },
   "source": [
    "## Productivity"
   ]
  },
  {
   "cell_type": "markdown",
   "metadata": {
    "slideshow": {
     "slide_type": "subslide"
    }
   },
   "source": [
    "## US Labor Productity 2009 - 2014\n",
    "![Labor Productivity](./images/labor-productivity.svg)\n",
    "http://beta.bls.gov/dataViewer/view/timeseries/PRS84006093"
   ]
  },
  {
   "cell_type": "markdown",
   "metadata": {
    "slideshow": {
     "slide_type": "notes"
    }
   },
   "source": [
    "35% growth in labor productivity"
   ]
  },
  {
   "cell_type": "markdown",
   "metadata": {
    "slideshow": {
     "slide_type": "subslide"
    }
   },
   "source": [
    "## Global Scholarly Output \n",
    "![Global Scholarly Output](./images/Scholarly_Output_by_year.svg)\n"
   ]
  },
  {
   "cell_type": "markdown",
   "metadata": {},
   "source": [
    "64% growth in scholarly output"
   ]
  },
  {
   "cell_type": "markdown",
   "metadata": {
    "slideshow": {
     "slide_type": "subslide"
    }
   },
   "source": [
    "![Growth in researchers correlates to journal](./images/growthjournalresearchers.jpg)\n",
    "Growth in researchers: 4–5% per year STM Report\n"
   ]
  },
  {
   "cell_type": "markdown",
   "metadata": {
    "slideshow": {
     "slide_type": "subslide"
    }
   },
   "source": [
    "![R&D Intensity](./images/OECD_0.jpg)"
   ]
  },
  {
   "cell_type": "markdown",
   "metadata": {
    "slideshow": {
     "slide_type": "subslide"
    }
   },
   "source": [
    "![US Federal R&D Investment](./images/DefNon_0.jpg)"
   ]
  },
  {
   "cell_type": "markdown",
   "metadata": {
    "slideshow": {
     "slide_type": "subslide"
    }
   },
   "source": [
    "## Scholarly productivity is not increasing\n",
    "## Why?"
   ]
  },
  {
   "cell_type": "markdown",
   "metadata": {
    "slideshow": {
     "slide_type": "slide"
    }
   },
   "source": [
    "#The Burden of Knowledge\n",
    "\n",
    "\n",
    "* Benjamin F. Jones \n",
    "* The Burden of Knowledge and the ‘Death of the Renaissance Man’: Is Innovation Getting Harder? \n",
    "* NBER Working Paper 11360\n",
    "* http://www.nber.org/papers/w11360"
   ]
  },
  {
   "cell_type": "markdown",
   "metadata": {
    "slideshow": {
     "slide_type": "subslide"
    }
   },
   "source": [
    "#The Model (Roughly)\n",
    "\n",
    "   > if one is to stand on the shoulders of giants, one must first climb up their backs, and the greater the body of knowledge, the harder this climb becomes. - Jones\n",
    "\n",
    "* Knowledge accumulates\n",
    "* Need for more education\n",
    "* => Innovators narrow their expertise\n",
    "* => Larger teams\n",
    "* More overhead to produce new knowledge\n"
   ]
  },
  {
   "cell_type": "markdown",
   "metadata": {
    "slideshow": {
     "slide_type": "subslide"
    }
   },
   "source": [
    "# Facts & Figures\n",
    "* U.S. team size is seen to be increasing of 17% per decade\n",
    "* Specialization is increasing by 6% per decade\n",
    "* Nobel Prize winners invention increased by 6 years over the 20th Century\n",
    "* R&D employment rising dramatically, yet TFP growth has been flat (Jones, 1995b). \n",
    "* Average number of patents produced per R&D worker has been falling over time across countries (Evenson 1984) "
   ]
  },
  {
   "cell_type": "markdown",
   "metadata": {
    "slideshow": {
     "slide_type": "subslide"
    }
   },
   "source": [
    "# Reading more but with less time\n",
    "* \"45-50 minutes in the mid-1990s to just over 30 minute\" - The 2015 STM Report\n",
    "![Growth in number of papers read](./images/growth-in-papers-read.jpg)"
   ]
  },
  {
   "cell_type": "markdown",
   "metadata": {
    "slideshow": {
     "slide_type": "subslide"
    }
   },
   "source": [
    "# Citing more...\n",
    "\n",
    "![References per article](./images/refsperarticle.jpg)\n",
    "\n",
    "\n",
    "* Long-Term Variations in the Aging of Scientific Literature: From Exponential Growth to Steady-State Science\n",
    "* Vincent Larivière, Éric Archambault, Yves Gingras \n",
    "JASIST"
   ]
  },
  {
   "cell_type": "markdown",
   "metadata": {
    "slideshow": {
     "slide_type": "subslide"
    }
   },
   "source": [
    "![Age at first innovation](./images/first-innovation.jpg)"
   ]
  },
  {
   "cell_type": "markdown",
   "metadata": {
    "slideshow": {
     "slide_type": "subslide"
    }
   },
   "source": [
    "![Inventors per patent](./images/inventors-per-patent.jpg)"
   ]
  },
  {
   "cell_type": "markdown",
   "metadata": {
    "slideshow": {
     "slide_type": "subslide"
    }
   },
   "source": [
    "![Number of co-authors](./images/growth-in-coauthoring.jpg)"
   ]
  },
  {
   "cell_type": "markdown",
   "metadata": {
    "slideshow": {
     "slide_type": "subslide"
    }
   },
   "source": [
    "![1000 author paper](./images/1000authors.jpg)"
   ]
  },
  {
   "cell_type": "markdown",
   "metadata": {
    "slideshow": {
     "slide_type": "slide"
    }
   },
   "source": [
    "# All is not lost"
   ]
  },
  {
   "cell_type": "markdown",
   "metadata": {
    "slideshow": {
     "slide_type": "subslide"
    }
   },
   "source": [
    "![101 Innovations in Scholarly Communication](./images/101innovations.jpg)\n",
    "\n",
    "101 Innovations in Scholarly Communication by Jeroen Bosman & Bianca Kramer"
   ]
  },
  {
   "cell_type": "markdown",
   "metadata": {
    "slideshow": {
     "slide_type": "slide"
    }
   },
   "source": [
    "# Knowledge Graphs"
   ]
  },
  {
   "cell_type": "markdown",
   "metadata": {
    "slideshow": {
     "slide_type": "subslide"
    }
   },
   "source": [
    "Knowledge Graph Definition: \n",
    "> graph structured knowledge bases (KBs) which store factual information in form of relationships between entities \n",
    "\n",
    "* Nickel et al. \"A Review of Relational Machine Learning for Knowlege Graphs\" arXiv:1503.00759v1d\n",
    "* Typically integrated with some form of context or probablities associated with facts\n",
    "* [A nice tutorial](http://resources.mpi-inf.mpg.de/yago-naga/www2015-tutorial)\n",
    "\n"
   ]
  },
  {
   "cell_type": "markdown",
   "metadata": {
    "slideshow": {
     "slide_type": "subslide"
    }
   },
   "source": [
    "![Knowledge Graph Snippet](./images/kg-example.jpg)"
   ]
  },
  {
   "cell_type": "markdown",
   "metadata": {
    "slideshow": {
     "slide_type": "subslide"
    }
   },
   "source": [
    "![Review of sizes of knowledge graphs](./images/knowledge-base-srl-review.jpg)"
   ]
  },
  {
   "cell_type": "markdown",
   "metadata": {
    "slideshow": {
     "slide_type": "notes"
    }
   },
   "source": [
    "These are primarily for encycolopedic knowledge but I think it can help for science."
   ]
  },
  {
   "cell_type": "markdown",
   "metadata": {
    "slideshow": {
     "slide_type": "slide"
    }
   },
   "source": [
    "# How does the concept help?"
   ]
  },
  {
   "cell_type": "markdown",
   "metadata": {
    "slideshow": {
     "slide_type": "subslide"
    }
   },
   "source": [
    "# Integrate four core knowledge types\n",
    "\n",
    "1. Databases\n",
    "2. Text\n",
    "3. Models\n",
    "4. Social Networks \n"
   ]
  },
  {
   "cell_type": "markdown",
   "metadata": {
    "slideshow": {
     "slide_type": "subslide"
    }
   },
   "source": [
    "# Databases\n",
    "![Human Brain](./images/brainmapping.jpg)\n",
    "\n",
    "http://www.wired.com/2015/05/first-big-step-toward-mapping-human-brain/"
   ]
  },
  {
   "cell_type": "markdown",
   "metadata": {
    "slideshow": {
     "slide_type": "subslide"
    }
   },
   "source": [
    "![Coffee genome database](./images/coffee-db.jpg)"
   ]
  },
  {
   "cell_type": "markdown",
   "metadata": {
    "slideshow": {
     "slide_type": "subslide"
    }
   },
   "source": [
    "# Lots of text\n",
    "# 2.5 million articles a year\n",
    "\n"
   ]
  },
  {
   "cell_type": "markdown",
   "metadata": {
    "slideshow": {
     "slide_type": "fragment"
    }
   },
   "source": [
    "A couple of notes:\n",
    "* We too often look at articles as independent blocks\n",
    "* Many databases are curated from text (e.g. Chembl, Reaxys)"
   ]
  },
  {
   "cell_type": "markdown",
   "metadata": {
    "slideshow": {
     "slide_type": "notes"
    }
   },
   "source": [
    "Can we connect them?"
   ]
  },
  {
   "cell_type": "markdown",
   "metadata": {
    "slideshow": {
     "slide_type": "subslide"
    }
   },
   "source": [
    "# Example: Paleontological Databases\n",
    "\n",
    "![paleodb](./images/pbdb_black.jpg)\n",
    "* Paleobiology Database (PBDB; http://paleobiodb.org)  \n",
    "* Peters SE, Zhang C, Livny M, Ré C (2014) A Machine Reading System for Assembling Synthetic Paleontological Databases. PLoS ONE 9(12): e113523. doi:10.1371/journal.pone.0113523 \n",
    "   * \"the majority of the data were extracted from approximately 40,000 publications\"\n",
    "   * \"leverages only a small fraction of all published paleontological knowledge\"\n",
    "   * \"because the end product of manual data entry is a list of facts that are divorced from most, if not all, original contexts, assessing the quality of the database and the reproducibility of results is difficult.\"\n",
    "\n",
    "\n"
   ]
  },
  {
   "cell_type": "markdown",
   "metadata": {
    "slideshow": {
     "slide_type": "subslide"
    }
   },
   "source": [
    "![Deep Dyve](./images/deepdyve.jpg)\n",
    "http://deepdive.stanford.edu\n",
    "\n"
   ]
  },
  {
   "cell_type": "markdown",
   "metadata": {
    "slideshow": {
     "slide_type": "subslide"
    }
   },
   "source": [
    "# Deep Dive Architecture: Text + DB\n",
    "![Deep Dyve Arch](./images/journal.pone.0113523.g001.png)"
   ]
  },
  {
   "cell_type": "markdown",
   "metadata": {
    "slideshow": {
     "slide_type": "subslide"
    }
   },
   "source": [
    "# Models\n",
    "\n",
    "* Many models can be expressed with respect to graphical structures. \n",
    "* Examples\n",
    "    * Link Prediction\n",
    "    * Collective classification\n",
    "    * Entity Resolution\n",
    "    * Cellular Networks\n",
    "    * Input to QA systems\n",
    "* Potential for common variables in models\n",
    "\n"
   ]
  },
  {
   "cell_type": "markdown",
   "metadata": {
    "slideshow": {
     "slide_type": "subslide"
    }
   },
   "source": [
    "# FoxPSL\n",
    "* Applying domain models at scale\n",
    "* Implementation of Probablistic Soft Logic\n",
    "* Joint inference\n",
    "* https://github.com/uzh/fox\n",
    "\n",
    "![Domain Size](./images/foxPSLstats.jpg)\n",
    "\n",
    "\n",
    "Sara Magliacane et al. FoxPSL: An Extended And Scalable PSL Implementation.  AAAI Spring Symposium 2015 on Knowledge Representation and Reasoning.\n",
    " \n",
    " "
   ]
  },
  {
   "cell_type": "markdown",
   "metadata": {
    "slideshow": {
     "slide_type": "slide"
    }
   },
   "source": [
    "# The Burden of Knowledge?\n",
    "\n",
    "* Have computers attack the problem\n",
    "* Perform synthesis between the various kinds of knowledge we produce\n",
    "* Come up to speed by having information in one place\n",
    "* Ability to make smaller contributions that spread faster\n",
    "    * e.g. wikidata\n",
    "    "
   ]
  },
  {
   "cell_type": "markdown",
   "metadata": {
    "slideshow": {
     "slide_type": "slide"
    }
   },
   "source": [
    "#Challenges\n",
    "* Integration with modeling environments\n",
    "    * [Wikidata Tookit](https://github.com/Wikidata/Wikidata-Toolkit)\n",
    "    * [Open PHACTS Python lib](https://pypi.python.org/pypi/ops.py)\n",
    "    * Open Source Wolfram alpha?\n",
    "* User interaction\n",
    "    * Are cards the only thing?\n",
    "    * Is voice really the right way?\n",
    "* Tackling highly specific domain knowledge"
   ]
  },
  {
   "cell_type": "markdown",
   "metadata": {
    "slideshow": {
     "slide_type": "slide"
    }
   },
   "source": [
    "# Conclusion\n",
    "\n",
    "* The problem of *too* much is very real in scholarship\n",
    "    * The Burden of Knowledge\n",
    "* New computational tools are necessary, but\n",
    "    * Look at addressing systemic problems\n",
    "    * See also:\n",
    "         * discoveryinformaticsinitiative.org\n",
    "         * DARPA Big Mechanism\n",
    "* One exciting tool is knowledge graphs\n"
   ]
  },
  {
   "cell_type": "code",
   "execution_count": null,
   "metadata": {
    "collapsed": true
   },
   "outputs": [],
   "source": []
  }
 ],
 "metadata": {
  "celltoolbar": "Slideshow",
  "kernelspec": {
   "display_name": "Python 2",
   "language": "python",
   "name": "python2"
  },
  "language_info": {
   "codemirror_mode": {
    "name": "ipython",
    "version": 2
   },
   "file_extension": ".py",
   "mimetype": "text/x-python",
   "name": "python",
   "nbconvert_exporter": "python",
   "pygments_lexer": "ipython2",
   "version": "2.7.5"
  }
 },
 "nbformat": 4,
 "nbformat_minor": 0
}
